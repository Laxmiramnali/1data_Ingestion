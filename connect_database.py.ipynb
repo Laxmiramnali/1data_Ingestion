{
 "cells": [
  {
   "cell_type": "code",
   "execution_count": 40,
   "id": "27e8f18f",
   "metadata": {},
   "outputs": [
    {
     "name": "stdout",
     "output_type": "stream",
     "text": [
      "Requirement already satisfied: cassandra-driver in c:\\users\\shrik\\appdata\\local\\programs\\python\\python39\\lib\\site-packages (3.27.0)Note: you may need to restart the kernel to use updated packages.\n"
     ]
    },
    {
     "name": "stderr",
     "output_type": "stream",
     "text": [
      "WARNING: Ignoring invalid distribution -rotobuf (c:\\users\\shrik\\appdata\\local\\programs\\python\\python39\\lib\\site-packages)\n",
      "WARNING: Ignoring invalid distribution -rotobuf (c:\\users\\shrik\\appdata\\local\\programs\\python\\python39\\lib\\site-packages)\n"
     ]
    },
    {
     "name": "stdout",
     "output_type": "stream",
     "text": [
      "\n",
      "Requirement already satisfied: six>=1.9 in c:\\users\\shrik\\appdata\\local\\programs\\python\\python39\\lib\\site-packages (from cassandra-driver) (1.16.0)\n",
      "Requirement already satisfied: geomet<0.3,>=0.1 in c:\\users\\shrik\\appdata\\local\\programs\\python\\python39\\lib\\site-packages (from cassandra-driver) (0.2.1.post1)\n",
      "Requirement already satisfied: cryptography>=35.0 in c:\\users\\shrik\\appdata\\local\\programs\\python\\python39\\lib\\site-packages (from cassandra-driver) (41.0.1)\n",
      "Requirement already satisfied: cffi>=1.12 in c:\\users\\shrik\\appdata\\local\\programs\\python\\python39\\lib\\site-packages (from cryptography>=35.0->cassandra-driver) (1.15.0)\n",
      "Requirement already satisfied: click in c:\\users\\shrik\\appdata\\local\\programs\\python\\python39\\lib\\site-packages (from geomet<0.3,>=0.1->cassandra-driver) (8.1.3)\n",
      "Requirement already satisfied: pycparser in c:\\users\\shrik\\appdata\\local\\programs\\python\\python39\\lib\\site-packages (from cffi>=1.12->cryptography>=35.0->cassandra-driver) (2.21)\n",
      "Requirement already satisfied: colorama in c:\\users\\shrik\\appdata\\local\\programs\\python\\python39\\lib\\site-packages (from click->geomet<0.3,>=0.1->cassandra-driver) (0.4.4)\n"
     ]
    }
   ],
   "source": [
    "pip install cassandra-driver"
   ]
  },
  {
   "cell_type": "code",
   "execution_count": 41,
   "id": "e770cbc8",
   "metadata": {},
   "outputs": [
    {
     "name": "stdout",
     "output_type": "stream",
     "text": [
      "3.27.0\n"
     ]
    }
   ],
   "source": [
    "import cassandra\n",
    "print (cassandra.__version__)"
   ]
  },
  {
   "cell_type": "code",
   "execution_count": 42,
   "id": "b9b0ecc2",
   "metadata": {},
   "outputs": [
    {
     "name": "stdout",
     "output_type": "stream",
     "text": [
      "4.0.0.6816\n"
     ]
    }
   ],
   "source": [
    "from cassandra.cluster import Cluster\n",
    "from cassandra.auth import PlainTextAuthProvider\n",
    "\n",
    "cloud_config= {\n",
    "        'secure_connect_bundle': 'C:/Users/shrik/Downloads/secure-connect-1data-ingestion.zip'}\n",
    "auth_provider = PlainTextAuthProvider('lWnZPHSXXIXYccsTlPihpzHz', 'xfZfZfCOiRC4XyalCmqswsZ6hY8F9p0evX8F,nCCXP2B762S3r-AZfvhEyDsdPnruZX8YswthrWd7SZ8R8epezJMsMqNnep5tuMbivh4GUgqoRG1wlOcs_WqtZYgqx6d')\n",
    "cluster = Cluster(cloud=cloud_config, auth_provider=auth_provider)\n",
    "session = cluster.connect()\n",
    "\n",
    "row = session.execute(\"select release_version from system.local\").one()\n",
    "if row:\n",
    "    print(row[0])\n",
    "else:\n",
    "    print(\"An error occurred.\")"
   ]
  },
  {
   "cell_type": "code",
   "execution_count": 53,
   "id": "ddaff278",
   "metadata": {},
   "outputs": [
    {
     "ename": "SyntaxError",
     "evalue": "invalid syntax (Temp/ipykernel_9152/2222576574.py, line 1)",
     "output_type": "error",
     "traceback": [
      "\u001b[1;36m  File \u001b[1;32m\"C:\\Users\\shrik\\AppData\\Local\\Temp/ipykernel_9152/2222576574.py\"\u001b[1;36m, line \u001b[1;32m1\u001b[0m\n\u001b[1;33m    python ./connect_database.py\u001b[0m\n\u001b[1;37m            ^\u001b[0m\n\u001b[1;31mSyntaxError\u001b[0m\u001b[1;31m:\u001b[0m invalid syntax\n"
     ]
    }
   ],
   "source": [
    "python ./connect_database.py\n"
   ]
  },
  {
   "cell_type": "code",
   "execution_count": 55,
   "id": "68442a9b",
   "metadata": {},
   "outputs": [
    {
     "ename": "SyntaxError",
     "evalue": "invalid syntax (Temp/ipykernel_9152/55135754.py, line 1)",
     "output_type": "error",
     "traceback": [
      "\u001b[1;36m  File \u001b[1;32m\"C:\\Users\\shrik\\AppData\\Local\\Temp/ipykernel_9152/55135754.py\"\u001b[1;36m, line \u001b[1;32m1\u001b[0m\n\u001b[1;33m    python connect database.py\u001b[0m\n\u001b[1;37m           ^\u001b[0m\n\u001b[1;31mSyntaxError\u001b[0m\u001b[1;31m:\u001b[0m invalid syntax\n"
     ]
    }
   ],
   "source": [
    "connect database.py\n",
    "\n",
    "\n",
    "\n"
   ]
  },
  {
   "cell_type": "code",
   "execution_count": 51,
   "id": "c7be5273",
   "metadata": {},
   "outputs": [
    {
     "name": "stderr",
     "output_type": "stream",
     "text": [
      "'astra-cli' is not recognized as an internal or external command,\n",
      "operable program or batch file.\n",
      "'astra-cli' is not recognized as an internal or external command,\n",
      "operable program or batch file.\n"
     ]
    }
   ],
   "source": [
    "!astra-cli login\n",
    "!astra-cli create ...\n"
   ]
  },
  {
   "cell_type": "code",
   "execution_count": null,
   "id": "02e221f9",
   "metadata": {},
   "outputs": [],
   "source": [
    "sqoop import \\\n",
    "  --connect jdbc:<database_type>://<8c5be20c-21b6-4bf4-8f07-bd0ef1476a6f-asia-south1.db.astra.datastax.com>:<29080>/<1Data_Ingestion> \\\n",
    "  --username <username> \\\n",
    "  --password <password> \\\n",
    "  --table <movies_and_tv> \\\n",
    "  --target-dir <target_directory> \\\n",
    "  --split-by <column_name>\n"
   ]
  }
 ],
 "metadata": {
  "kernelspec": {
   "display_name": "Python 3 (ipykernel)",
   "language": "python",
   "name": "python3"
  },
  "language_info": {
   "codemirror_mode": {
    "name": "ipython",
    "version": 3
   },
   "file_extension": ".py",
   "mimetype": "text/x-python",
   "name": "python",
   "nbconvert_exporter": "python",
   "pygments_lexer": "ipython3",
   "version": "3.9.4"
  }
 },
 "nbformat": 4,
 "nbformat_minor": 5
}
